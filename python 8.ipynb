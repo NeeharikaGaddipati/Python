{
 "cells": [
  {
   "cell_type": "markdown",
   "metadata": {},
   "source": [
    "## File Handling in Python\n",
    "#### File--Document containing information residing on the permanent storage types---Doc,Pdf,Text,Csv Filesand etc.\n",
    "    File:I/O:- Input and output\n",
    "                 keyboard as input \n",
    "                 screen as output\n",
    "              Read/write\n",
    "                open()--open the file\n",
    "                close()--close the file\n",
    "              open(filename,\"Mode of the file)\n",
    "           **MODES\n",
    "             \"r\"--It opens the file for reading.\n",
    "             \"w\"--Opens the file for writing.\n",
    "                   If the file name is not present,it creates a new file and writes the data into it.\n",
    "                   If the file already exists, it rewrites the data.So use append command.\n",
    "             \"a\"--It also creates the file if it does not exist.\n",
    "                  If the file exists it adds the data(it does not overwrite."
   ]
  },
  {
   "cell_type": "code",
   "execution_count": 2,
   "metadata": {},
   "outputs": [
    {
     "name": "stdout",
     "output_type": "stream",
     "text": [
      "file is created successfully and data is written\n"
     ]
    }
   ],
   "source": [
    "def createFile(filename):\n",
    "    f=open(filename,\"w\")\n",
    "    for i in range(10):\n",
    "        f.write(\"This is %d line\\n\" % i)\n",
    "    print(\"file is created successfully and data is written\")\n",
    "    f.close()\n",
    "    return\n",
    "createFile(\"file1.txt\")"
   ]
  },
  {
   "cell_type": "code",
   "execution_count": 3,
   "metadata": {},
   "outputs": [
    {
     "name": "stdout",
     "output_type": "stream",
     "text": [
      "This is 0 line\n",
      "This is 1 line\n",
      "This is 2 line\n",
      "This is 3 line\n",
      "This is 4 line\n",
      "This is 5 line\n",
      "This is 6 line\n",
      "This is 7 line\n",
      "This is 8 line\n",
      "This is 9 line\n",
      "\n"
     ]
    }
   ],
   "source": [
    "def readFile(filename):\n",
    "    f=open(filename,\"r\")\n",
    "    if f.mode==\"r\":\n",
    "        x=f.read()\n",
    "        print(x)\n",
    "    f.close()\n",
    "    return\n",
    "readFile(\"file1.txt\")"
   ]
  },
  {
   "cell_type": "code",
   "execution_count": 4,
   "metadata": {},
   "outputs": [
    {
     "name": "stdout",
     "output_type": "stream",
     "text": [
      "file is created successfully and data is written\n"
     ]
    }
   ],
   "source": [
    "def createFile(filename):\n",
    "    f=open(filename,\"w\")\n",
    "    for i in range(10):\n",
    "        f.write(\"Test %d line\\n\" % i)\n",
    "    print(\"file is created successfully and data is written\")\n",
    "    f.close()\n",
    "    return\n",
    "createFile(\"file1.txt\")"
   ]
  },
  {
   "cell_type": "code",
   "execution_count": 1,
   "metadata": {},
   "outputs": [
    {
     "name": "stdout",
     "output_type": "stream",
     "text": [
      "file is created successfully and data is written\n"
     ]
    }
   ],
   "source": [
    "def appendFile(filename):\n",
    "    f=open(filename,\"a\")\n",
    "    for i in range(10,20):\n",
    "        f.write(\"Test %d line\\n\" % i)\n",
    "    print(\"file is created successfully and data is written\")\n",
    "    f.close()\n",
    "    return\n",
    "appendFile(\"file1.txt\")"
   ]
  },
  {
   "cell_type": "code",
   "execution_count": 2,
   "metadata": {},
   "outputs": [
    {
     "name": "stdout",
     "output_type": "stream",
     "text": [
      "Successfully created the directory /desktop \n"
     ]
    }
   ],
   "source": [
    "import os\n",
    "\n",
    "# define the name of the directory to be created\n",
    "path = \"/desktop\"\n",
    "\n",
    "try:  \n",
    "    os.mkdir(path)\n",
    "except OSError:  \n",
    "    print (\"Creation of the directory %s failed\" % path)\n",
    "else:  \n",
    "    print (\"Successfully created the directory %s \" % path)\n"
   ]
  },
  {
   "cell_type": "code",
   "execution_count": 4,
   "metadata": {},
   "outputs": [],
   "source": [
    "def appendFile(filename):\n",
    "    f=open(filename,\"a\")\n",
    "    f.write(\"New line 1\\n\")\n",
    "    f.write(\"New line 2\\n\")\n",
    "    f.close()\n",
    "    return\n",
    "appendFile(\"file1.txt\")"
   ]
  },
  {
   "cell_type": "code",
   "execution_count": 10,
   "metadata": {},
   "outputs": [
    {
     "name": "stdout",
     "output_type": "stream",
     "text": [
      "22\n",
      "0\n"
     ]
    }
   ],
   "source": [
    "def dataAnalysisWordCount(filename,word):\n",
    "    f=open(filename,\"r\")\n",
    "    if f.mode==\"r\":\n",
    "        x=f.read()\n",
    "        lst=x.split()\n",
    "    cnt=lst.count(word)\n",
    "    return cnt\n",
    "print(dataAnalysisWordCount(\"file1.txt\",\"line\"))\n",
    "print(dataAnalysisWordCount(\"file1.txt\",\"rest\"))"
   ]
  },
  {
   "cell_type": "markdown",
   "metadata": {},
   "source": [
    "## Function  to count of characters in the file"
   ]
  },
  {
   "cell_type": "code",
   "execution_count": 14,
   "metadata": {},
   "outputs": [
    {
     "name": "stdout",
     "output_type": "stream",
     "text": [
      "272\n"
     ]
    }
   ],
   "source": [
    "def countCharacter(filename):\n",
    "    f=open(filename,\"r\")\n",
    "    if f.mode==\"r\":\n",
    "        x=f.read()\n",
    "        lst=list(x)\n",
    "    return len(lst)\n",
    "print(countCharacter(\"file1.txt\"))"
   ]
  },
  {
   "cell_type": "markdown",
   "metadata": {},
   "source": [
    "## Count uppercase character from the given file."
   ]
  },
  {
   "cell_type": "code",
   "execution_count": 19,
   "metadata": {},
   "outputs": [
    {
     "name": "stdout",
     "output_type": "stream",
     "text": [
      "22\n"
     ]
    }
   ],
   "source": [
    "def countUpper(filename):\n",
    "    f=open(filename,\"r\")\n",
    "    cnt=0\n",
    "    if f.mode==\"r\":\n",
    "        x=f.read()\n",
    "        lst=list(x)\n",
    "        for i in lst:\n",
    "            if i.isupper():\n",
    "                cnt += 1\n",
    "    return cnt\n",
    "print(countUpper(\"file1.txt\"))"
   ]
  },
  {
   "cell_type": "markdown",
   "metadata": {},
   "source": [
    "## Count number of lines in the file."
   ]
  },
  {
   "cell_type": "code",
   "execution_count": 24,
   "metadata": {},
   "outputs": [
    {
     "data": {
      "text/plain": [
       "23"
      ]
     },
     "execution_count": 24,
     "metadata": {},
     "output_type": "execute_result"
    }
   ],
   "source": [
    "def countLines(filename):\n",
    "    f=open(filename,\"r\")\n",
    "    if f.mode==\"r\":\n",
    "        x=f.read()\n",
    "        lst=x.split(\"\\n\")\n",
    "    return len(lst)\n",
    "countLines(\"file1.txt\")"
   ]
  },
  {
   "cell_type": "markdown",
   "metadata": {},
   "source": [
    "### Regular Expressions\n",
    "#### Pattern matching\n",
    "#### Symbolic notation of a pattern\n",
    "##### Pattern(RE) represents set of values in a given pattern.\n",
    "###### [0-9]--> any digit.\n",
    "######  [a-z]--> any lowercase character.\n",
    "######   [A-Z]--> any uppercase character.\n",
    "######   [2468]--> all the single digit multiples of 2.\n",
    "######    ^[0-9]{1}-->. only single digit number.\n",
    "###### Cap symbol is used to start a regular expression.\n",
    "###### Dollar symbol is used to end a regular expression.\n",
    "###### ^[a-z]{5}--> it only accepts five character string that too lowercase.\n",
    "###### ^[0-9]{3}--> regular expression will accept only three digit number.\n",
    "###### ^[a-ZA-z]{6}--> a string can be of upper/lower case chars and len of 6.\n",
    "###### ^[a-ZA-z]{6-5}--> a string min of 6 characters and max of 15 characters.\n",
    "###### ^[a-ZA-z0-9]{6-15}--> Upper,lower and digits.\n",
    "###### ^[6-9][0-9]{9} ,[0][6-9][0-9]{9},[+][9][1][6-9][0-9]{9}-->RE's for Indian mobile number.\n",
    "### Note: for the expressions starting with cap dollar symbol should be added in the end. "
   ]
  },
  {
   "cell_type": "code",
   "execution_count": 15,
   "metadata": {},
   "outputs": [
    {
     "name": "stdout",
     "output_type": "stream",
     "text": [
      "True\n",
      "True\n",
      "True\n"
     ]
    }
   ],
   "source": [
    "import re\n",
    "def phoneNumberValidate(number):\n",
    "    pattern='^[6-9][0-9]{9}$|^[0][6-9][0-9]{9}$|^[+][9][1][6-9][0-9]{9}$'\n",
    "    phone=str(number)\n",
    "    if re.match(pattern,phone):\n",
    "        return True\n",
    "    return False\n",
    "print(phoneNumberValidate(9895485677))\n",
    "print(phoneNumberValidate(\"06538965938\"))\n",
    "print(phoneNumberValidate(\"+917357348569\"))"
   ]
  },
  {
   "cell_type": "code",
   "execution_count": 18,
   "metadata": {},
   "outputs": [
    {
     "name": "stdout",
     "output_type": "stream",
     "text": [
      "True\n",
      "False\n"
     ]
    }
   ],
   "source": [
    "import re\n",
    "def validateRollNumber(number):\n",
    "    number=str(number)\n",
    "    pattern=\"^[1][5][2][U][1][A][0][1-9][0-6][0-9]$\"\n",
    "    if re.match(pattern,number):\n",
    "        return True\n",
    "    return False\n",
    "print(validateRollNumber(\"152U1A0767\"))\n",
    "print(validateRollNumber(\"152U1A0997\"))"
   ]
  },
  {
   "cell_type": "markdown",
   "metadata": {},
   "source": [
    "### Email ID Validation:Username@Domain name.extension\n",
    "       Username:\n",
    "             Length will be:[6-15]\n",
    "             No spl characters apart from_\n",
    "             Should not begin and end with_\n",
    "             Character set: All digits and lowercase alphabets.\n",
    "       Domain name:\n",
    "             Length of domain:[3,18]\n",
    "             No spl characters.\n",
    "             Character set: All digits and lowercase alphabets.\n",
    "       Extension:\n",
    "             Length of extension:[2,4]\n",
    "             No spl characters.\n",
    "             Character set: All lowercase characters.\n",
    "       Regular expression for EmailID:^[0-9a-z][0-9a-z_.]{4,13}[0-9a-z][@][a-z0-9]{3,18}[.][a-z]{2,4}$ "
   ]
  },
  {
   "cell_type": "code",
   "execution_count": 20,
   "metadata": {},
   "outputs": [
    {
     "name": "stdout",
     "output_type": "stream",
     "text": [
      "True\n",
      "False\n"
     ]
    }
   ],
   "source": [
    "import re\n",
    "def validateEmailID(email):\n",
    "    pattern=\"^[0-9a-z][0-9a-z_.]{4,13}[0-9a-z][@][a-z0-9]{3,18}[.][a-z]{2,4}$\"\n",
    "    if re.match(pattern,email):\n",
    "        return True\n",
    "    return False\n",
    "print(validateEmailID(\"anil.1889@gmail.com\"))\n",
    "print(validateEmailID(\"$anil.1889@gmail.com\"))"
   ]
  },
  {
   "cell_type": "markdown",
   "metadata": {},
   "source": [
    "### Password\n",
    "#### Parameters: [6-15]\n",
    "#### Accept lowercase,uppercase, digits,spl symbols(@,#,!,$)"
   ]
  },
  {
   "cell_type": "code",
   "execution_count": 25,
   "metadata": {},
   "outputs": [
    {
     "name": "stdout",
     "output_type": "stream",
     "text": [
      "True\n",
      "False\n"
     ]
    }
   ],
   "source": [
    "import re\n",
    "def validatePassword(password):\n",
    "    pattern=\"^[a-zA-Z0-9!@#$]{6,15}$\"\n",
    "    if re.match(pattern,password):\n",
    "        return True\n",
    "    return False\n",
    "print(validatePassword(\"Anil1889@21#M\"))\n",
    "print(validatePassword(\"Anil1889@21#M1111111112222\"))"
   ]
  },
  {
   "cell_type": "markdown",
   "metadata": {},
   "source": [
    "# assignments\n",
    "### 1.file on virtual machine or local machine\n",
    "### 2.need to write the data to the file(emailid,mobilenumber)\n",
    "### 3.need to return the count of lowercase characters\n",
    "### 4.need to return the count of digits\n",
    "### 5.count of special characters\n",
    "### 6. create file with these parameters name,emailid,mobilenummber.......validate the email  id ......validate the mobile number  "
   ]
  },
  {
   "cell_type": "code",
   "execution_count": 31,
   "metadata": {},
   "outputs": [],
   "source": [
    "def createFile(filename):\n",
    "    f=open(filename,\"w\")\n",
    "    \n",
    "    f.close()\n",
    "    return\n",
    "createFile(\"file2.txt\")"
   ]
  },
  {
   "cell_type": "code",
   "execution_count": 34,
   "metadata": {},
   "outputs": [
    {
     "name": "stdout",
     "output_type": "stream",
     "text": [
      "file is created successfully and data is written\n"
     ]
    }
   ],
   "source": [
    "def createFile(filename):\n",
    "    f=open(filename,\"w\")\n",
    "    for i in range(100):\n",
    "        f.write(\"Test %d line\\n\" % i)\n",
    "    print(\"file is created successfully and data is written\")\n",
    "    f.close()\n",
    "    return\n",
    "createFile(\"file2.txt\")"
   ]
  },
  {
   "cell_type": "code",
   "execution_count": 35,
   "metadata": {},
   "outputs": [
    {
     "name": "stdout",
     "output_type": "stream",
     "text": [
      "700\n"
     ]
    }
   ],
   "source": [
    "def countLower(filename):\n",
    "    f=open(filename,\"r\")\n",
    "    cnt=0\n",
    "    if f.mode==\"r\":\n",
    "        x=f.read()\n",
    "        lst=list(x)\n",
    "        for i in lst:\n",
    "            if i.islower():\n",
    "                cnt += 1\n",
    "    return cnt\n",
    "print(countLower(\"file2.txt\"))"
   ]
  },
  {
   "cell_type": "code",
   "execution_count": 36,
   "metadata": {},
   "outputs": [
    {
     "name": "stdout",
     "output_type": "stream",
     "text": [
      "190\n"
     ]
    }
   ],
   "source": [
    "def countDigits(filename):\n",
    "    f=open(filename,\"r\")\n",
    "    cnt=0\n",
    "    if f.mode==\"r\":\n",
    "        x=f.read()\n",
    "        lst=list(x)\n",
    "        for i in lst:\n",
    "            if i.isnumeric():\n",
    "                cnt += 1\n",
    "    return cnt\n",
    "print(countDigits(\"file2.txt\"))"
   ]
  },
  {
   "cell_type": "code",
   "execution_count": 39,
   "metadata": {},
   "outputs": [
    {
     "name": "stdout",
     "output_type": "stream",
     "text": [
      "300\n"
     ]
    }
   ],
   "source": [
    "def countSpl(filename):\n",
    "    f=open(filename,\"r\")\n",
    "    cnt=0\n",
    "    if f.mode==\"r\":\n",
    "        x=f.read()\n",
    "        lst=list(x)\n",
    "        for i in lst:\n",
    "            if i.isupper()!=True and i.islower()!=True and i.isnumeric()!=True :\n",
    "                cnt += 1\n",
    "    return cnt\n",
    "print(countSpl(\"file2.txt\"))"
   ]
  },
  {
   "cell_type": "code",
   "execution_count": 1,
   "metadata": {},
   "outputs": [],
   "source": [
    "import re\n",
    "def createfile(filename):\n",
    "    f=open(filename,\"w\")\n",
    "    email=\"harshu.2001@gmail.com\"\n",
    "    mobile=\"9440165126\"\n",
    "    pattern=\"^[0-9a-z][0-9a-z_.]{4,13}[0-9a-z][@][a-z0-9]{3,18}[.][a-z]{2,4}$\"\n",
    "    if re.match(pattern,email):\n",
    "        f.write(email)\n",
    "    pattern='^[6-9][0-9]{9}$|^[0][6-9][0-9]{9}$|[+][9][1][6-9][0-9]{9}$'\n",
    "    if re.match(pattern,mobile):  \n",
    "        f.write(mobile)\n",
    "        #return(\"harshu.2001@gmail.com\")\n",
    "    return\n",
    "createfile(\"file2.txt\")    \n"
   ]
  },
  {
   "cell_type": "code",
   "execution_count": null,
   "metadata": {},
   "outputs": [],
   "source": []
  }
 ],
 "metadata": {
  "kernelspec": {
   "display_name": "Python 3",
   "language": "python",
   "name": "python3"
  },
  "language_info": {
   "codemirror_mode": {
    "name": "ipython",
    "version": 3
   },
   "file_extension": ".py",
   "mimetype": "text/x-python",
   "name": "python",
   "nbconvert_exporter": "python",
   "pygments_lexer": "ipython3",
   "version": "3.7.3"
  }
 },
 "nbformat": 4,
 "nbformat_minor": 2
}
