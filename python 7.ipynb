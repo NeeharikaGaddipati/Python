{
 "cells": [
  {
   "cell_type": "markdown",
   "metadata": {},
   "source": [
    "## String function- In built functions\n",
    "#### upper()--returns string in which all the characters are in upper case.\n",
    "#### lower()--returns string in which all the characters are in lower case."
   ]
  },
  {
   "cell_type": "code",
   "execution_count": 1,
   "metadata": {},
   "outputs": [
    {
     "name": "stdout",
     "output_type": "stream",
     "text": [
      "ANIL\n",
      "anil\n"
     ]
    }
   ],
   "source": [
    "str=\"anil\"\n",
    "print(str.upper())\n",
    "print(str.lower())"
   ]
  },
  {
   "cell_type": "markdown",
   "metadata": {},
   "source": [
    "## Boolean methods\n",
    "#### islower()--this method returns the output either true or false,if it is true the given character is lower case and if not it returns false.\n",
    "#### isupper()--this method returns the output either true or false,if it is true the given character is upper case and if not it returns false.\n",
    "#### isnumeric()-- returns true if all characters are numbers otherwise it returns false.\n",
    "#### isalpha()--returns true if all characters are alphabets otherwise it returns false.\n",
    "#### istitle()-- true or false(string is in title case.\n",
    "#### isspace()--true or false.ASCII number for space is 32."
   ]
  },
  {
   "cell_type": "code",
   "execution_count": 2,
   "metadata": {},
   "outputs": [
    {
     "name": "stdout",
     "output_type": "stream",
     "text": [
      "False\n",
      "True\n"
     ]
    }
   ],
   "source": [
    "s='Python is Easy Programming to learn and interesting'\n",
    "s1=\"python\"\n",
    "print(s.islower())\n",
    "print(s1.islower())"
   ]
  },
  {
   "cell_type": "code",
   "execution_count": 3,
   "metadata": {},
   "outputs": [
    {
     "name": "stdout",
     "output_type": "stream",
     "text": [
      "False\n",
      "True\n"
     ]
    }
   ],
   "source": [
    "s=\"Application\"\n",
    "s1='ANIL'\n",
    "print(s.isupper())\n",
    "print(s1.isupper())"
   ]
  },
  {
   "cell_type": "code",
   "execution_count": 4,
   "metadata": {},
   "outputs": [
    {
     "name": "stdout",
     "output_type": "stream",
     "text": [
      "True\n",
      "False\n"
     ]
    }
   ],
   "source": [
    "s=\"5678\"\n",
    "s1=\"an567\"\n",
    "print(s.isnumeric())\n",
    "print(s1.isnumeric())"
   ]
  },
  {
   "cell_type": "code",
   "execution_count": 5,
   "metadata": {},
   "outputs": [
    {
     "name": "stdout",
     "output_type": "stream",
     "text": [
      "True\n",
      "False\n"
     ]
    }
   ],
   "source": [
    "s=\"application\"\n",
    "s1=(\"app1889\")\n",
    "print(s.isalpha())\n",
    "print(s1.isalpha())"
   ]
  },
  {
   "cell_type": "code",
   "execution_count": 6,
   "metadata": {},
   "outputs": [
    {
     "name": "stdout",
     "output_type": "stream",
     "text": [
      "False\n",
      "True\n"
     ]
    }
   ],
   "source": [
    "s=\"Python programming\"\n",
    "s1=\"Python Programming\"\n",
    "print(s.istitle())\n",
    "print(s1.istitle())"
   ]
  },
  {
   "cell_type": "code",
   "execution_count": 12,
   "metadata": {},
   "outputs": [
    {
     "name": "stdout",
     "output_type": "stream",
     "text": [
      "False\n",
      "True\n"
     ]
    }
   ],
   "source": [
    "s=\"python\"\n",
    "s1=\"   \"\n",
    "print(s.isspace())\n",
    "print(s1.isspace())"
   ]
  },
  {
   "cell_type": "markdown",
   "metadata": {},
   "source": [
    "### String methods\n",
    "#### 1.join()--concatinate two strings.\n",
    "#### 2.split()--returns the list of strings that are separated by spaces.\n",
    "#### 3.replace()--replaces original set of characters with new set of characters."
   ]
  },
  {
   "cell_type": "code",
   "execution_count": 10,
   "metadata": {},
   "outputs": [
    {
     "name": "stdout",
     "output_type": "stream",
     "text": [
      "p y t h o n\n"
     ]
    }
   ],
   "source": [
    "str= \"python\"\n",
    "print(\" \".join(str))"
   ]
  },
  {
   "cell_type": "code",
   "execution_count": 11,
   "metadata": {},
   "outputs": [
    {
     "name": "stdout",
     "output_type": "stream",
     "text": [
      "python,programming,easy\n"
     ]
    }
   ],
   "source": [
    "print(\",\".join([\"python\",\"programming\",\"easy\"]))"
   ]
  },
  {
   "cell_type": "code",
   "execution_count": 13,
   "metadata": {},
   "outputs": [
    {
     "name": "stdout",
     "output_type": "stream",
     "text": [
      ",\n"
     ]
    }
   ],
   "source": [
    "lst=[\"\",\"\"]\n",
    "print(\",\".join(lst))"
   ]
  },
  {
   "cell_type": "code",
   "execution_count": 17,
   "metadata": {},
   "outputs": [
    {
     "name": "stdout",
     "output_type": "stream",
     "text": [
      "['Python,', 'Programming,', 'is,', 'easy,', 'to,', 'learn']\n",
      "['Python, Progr', 'mming, is, e', 'sy, to, le', 'rn']\n",
      "['Python', ' Programming', ' is', ' easy', ' to', ' learn']\n"
     ]
    }
   ],
   "source": [
    "s=(\"Python, Programming, is, easy, to, learn\")\n",
    "print(s.split())\n",
    "print(s.split(\"a\"))\n",
    "print(s.split(\",\"))"
   ]
  },
  {
   "cell_type": "code",
   "execution_count": 20,
   "metadata": {},
   "outputs": [
    {
     "name": "stdout",
     "output_type": "stream",
     "text": [
      "['Python,', 'Programming,', 'is,', 'easy,', 'to,', 'learn']\n",
      "2\n"
     ]
    }
   ],
   "source": [
    "lst=s.split()\n",
    "print(lst)\n",
    "print(lst.index(\"is,\"))"
   ]
  },
  {
   "cell_type": "code",
   "execution_count": 21,
   "metadata": {},
   "outputs": [
    {
     "name": "stdout",
     "output_type": "stream",
     "text": [
      "['P', 'y', 't', 'h', 'o', 'n', ',', ' ', 'P', 'r', 'o', 'g', 'r', 'a', 'm', 'm', 'i', 'n', 'g', ',', ' ', 'i', 's', ',', ' ', 'e', 'a', 's', 'y', ',', ' ', 't', 'o', ',', ' ', 'l', 'e', 'a', 'r', 'n']\n"
     ]
    }
   ],
   "source": [
    "lst=list(s)\n",
    "print(lst)"
   ]
  },
  {
   "cell_type": "code",
   "execution_count": 22,
   "metadata": {},
   "outputs": [
    {
     "name": "stdout",
     "output_type": "stream",
     "text": [
      "Python Proapplicationmming\n"
     ]
    }
   ],
   "source": [
    "s=\"Python Programming\"\n",
    "print(s.replace(\"gra\",\"application\"))"
   ]
  },
  {
   "cell_type": "markdown",
   "metadata": {},
   "source": [
    "## Python--Tuples\n",
    "### A tuple is a sequence of set of objects like list.\n",
    "### The differences of list and tuples are,tuples cannot be changed unlike list.\n",
    "### List will use square brackets to hold objects[].\n",
    "### Tuples will use parenthesis to hold objects().\n",
    "### Tuple does not support update and delete of objects.\n",
    "#### Tuples are useful only when the input is given for reading purpose."
   ]
  },
  {
   "cell_type": "code",
   "execution_count": 23,
   "metadata": {},
   "outputs": [
    {
     "name": "stdout",
     "output_type": "stream",
     "text": [
      "('Python', 'Programming', 1989, 2019, 'Machine Learning', 'AI')\n",
      "(1, 2, 3, 4, 5)\n"
     ]
    }
   ],
   "source": [
    "t1=(\"Python\",\"Programming\",1989,2019,\"Machine Learning\",\"AI\")\n",
    "t2=(1,2,3,4,5)\n",
    "print(t1)\n",
    "print(t2)"
   ]
  },
  {
   "cell_type": "code",
   "execution_count": 25,
   "metadata": {},
   "outputs": [
    {
     "name": "stdout",
     "output_type": "stream",
     "text": [
      "t1[0]= Python\n",
      "t1[2]= 1989\n",
      "t1[-1]= AI\n",
      "t1[1:4]= ('Programming', 1989, 2019)\n",
      "t1[2:-2]= (1989, 2019)\n"
     ]
    }
   ],
   "source": [
    "print(\"t1[0]=\",t1[0])\n",
    "print(\"t1[2]=\",t1[2])\n",
    "print(\"t1[-1]=\",t1[-1])\n",
    "print(\"t1[1:4]=\",t1[1:4])\n",
    "print(\"t1[2:-2]=\",t1[2:-2])"
   ]
  },
  {
   "cell_type": "code",
   "execution_count": 26,
   "metadata": {},
   "outputs": [
    {
     "name": "stdout",
     "output_type": "stream",
     "text": [
      "('Python', 'Programming', 1989, 2019, 'Machine Learning', 'AI', 1, 2, 3, 4, 5)\n"
     ]
    }
   ],
   "source": [
    "t3=t1+t2\n",
    "print(t3)"
   ]
  },
  {
   "cell_type": "markdown",
   "metadata": {},
   "source": [
    "## Tuple methods\n",
    "#### len(tuple)--length of the tuple.\n",
    "#### max(tuple)--returns the max value from tuple.(does not support combination of strings and numbers).\n",
    "#### min(tuple)--returns min value from tuple.\n",
    "#### cmp(tuple1,tuple2)--returns value 1 or -1."
   ]
  },
  {
   "cell_type": "code",
   "execution_count": 27,
   "metadata": {},
   "outputs": [
    {
     "name": "stdout",
     "output_type": "stream",
     "text": [
      "6\n"
     ]
    }
   ],
   "source": [
    "print(len(t1))"
   ]
  },
  {
   "cell_type": "code",
   "execution_count": 28,
   "metadata": {},
   "outputs": [
    {
     "name": "stdout",
     "output_type": "stream",
     "text": [
      "5\n"
     ]
    }
   ],
   "source": [
    "print(max(t2))"
   ]
  },
  {
   "cell_type": "code",
   "execution_count": 29,
   "metadata": {},
   "outputs": [
    {
     "name": "stdout",
     "output_type": "stream",
     "text": [
      "1\n"
     ]
    }
   ],
   "source": [
    "print(min(t2))"
   ]
  },
  {
   "cell_type": "markdown",
   "metadata": {},
   "source": [
    "## Python--Dictionary\n",
    "#### user data can be separatedby comma operator.\n",
    "## Methods\n",
    "### 1.len(dictobj)--returns a number which having length.\n",
    "### 2.str(dicobj)--returns the equ string to dic object.\n",
    "### 3.copy()--copies the one dic object data to another dic"
   ]
  },
  {
   "cell_type": "code",
   "execution_count": 31,
   "metadata": {},
   "outputs": [
    {
     "name": "stdout",
     "output_type": "stream",
     "text": [
      "user1[Name]= Anil\n",
      "user1[EmailID]= an@gmail.com\n",
      "user1[Age]= 29\n",
      "user1[Mobile number]= 9576388762\n"
     ]
    }
   ],
   "source": [
    "user1={'Name':'Anil','Age':29,'EmailID':'an@gmail.com','Mobile number':9576388762}\n",
    "print(\"user1[Name]=\",user1['Name'])\n",
    "print(\"user1[EmailID]=\",user1['EmailID'])\n",
    "print(\"user1[Age]=\",user1['Age'])\n",
    "print(\"user1[Mobile number]=\",user1['Mobile number'])"
   ]
  },
  {
   "cell_type": "code",
   "execution_count": 43,
   "metadata": {},
   "outputs": [
    {
     "name": "stdout",
     "output_type": "stream",
     "text": [
      "an@gmail.com\n",
      "an@gmail.com\n",
      "Hyderabad\n"
     ]
    }
   ],
   "source": [
    "print(user1['EmailID'])\n",
    "user1['EmailID']='an@gmail.com'\n",
    "print(user1['EmailID'])\n",
    "user1['Address']='Hyderabad'\n",
    "print(user1['Address'])"
   ]
  },
  {
   "cell_type": "code",
   "execution_count": 46,
   "metadata": {},
   "outputs": [
    {
     "name": "stdout",
     "output_type": "stream",
     "text": [
      "4\n"
     ]
    }
   ],
   "source": [
    "print(len(user1))"
   ]
  },
  {
   "cell_type": "code",
   "execution_count": 48,
   "metadata": {},
   "outputs": [
    {
     "name": "stdout",
     "output_type": "stream",
     "text": [
      "{'Name': 'Anil', 'Age': 29, 'EmailID': 'an@gmail.com', 'Mobile number': 9576388762}\n",
      "{'Name': 'Anil', 'Age': 29, 'EmailID': 'an@gmail.com', 'Mobile number': 9576388762}\n",
      "{'Name': 'Anil', 'Age': 29, 'EmailID': 'an@gmail.com', 'Mobile number': 9576388762, 'Address': 'Hyderabad'}\n",
      "{'Name': 'Anil', 'Age': 29, 'EmailID': 'an@gmail.com', 'Mobile number': 9576388762}\n"
     ]
    }
   ],
   "source": [
    "user1={'Name':'Anil','Age':29,'EmailID':'an@gmail.com','Mobile number':9576388762}\n",
    "user2=user1.copy()\n",
    "print(user1)\n",
    "print(user2)\n",
    "user1['Address']='Hyderabad'\n",
    "print(user1)\n",
    "print(user2)"
   ]
  },
  {
   "cell_type": "code",
   "execution_count": 49,
   "metadata": {},
   "outputs": [
    {
     "name": "stdout",
     "output_type": "stream",
     "text": [
      "dict_items([('Name', 'Anil'), ('Age', 29), ('EmailID', 'an@gmail.com'), ('Mobile number', 9576388762)])\n"
     ]
    }
   ],
   "source": [
    "user1={'Name':'Anil','Age':29,'EmailID':'an@gmail.com','Mobile number':9576388762}\n",
    "print(user1.items())"
   ]
  },
  {
   "cell_type": "code",
   "execution_count": 50,
   "metadata": {},
   "outputs": [
    {
     "name": "stdout",
     "output_type": "stream",
     "text": [
      "dict_values(['Anil', 29, 'an@gmail.com', 9576388762])\n",
      "dict_values(['Anil', 29, 'an@gmail.com', 9576388762])\n"
     ]
    }
   ],
   "source": [
    "user1={'Name':'Anil','Age':29,'EmailID':'an@gmail.com','Mobile number':9576388762}\n",
    "user2=user1.copy()\n",
    "print(user1.values())\n",
    "print(user2.values())"
   ]
  },
  {
   "cell_type": "markdown",
   "metadata": {},
   "source": [
    "## String Formatting\n",
    "  %s,%d"
   ]
  },
  {
   "cell_type": "code",
   "execution_count": 51,
   "metadata": {},
   "outputs": [
    {
     "name": "stdout",
     "output_type": "stream",
     "text": [
      "Python Programming\n"
     ]
    }
   ],
   "source": [
    "lst=['Python','Programming']\n",
    "print(\"%s %s\"%(lst[0],lst[1]))"
   ]
  },
  {
   "cell_type": "code",
   "execution_count": 52,
   "metadata": {},
   "outputs": [
    {
     "name": "stdout",
     "output_type": "stream",
     "text": [
      "Python Programming\n"
     ]
    }
   ],
   "source": [
    "lst=['Python','Programming']\n",
    "print(\"{0} {1}\".format(lst[0],lst[1]))"
   ]
  },
  {
   "cell_type": "markdown",
   "metadata": {},
   "source": [
    "## Contact application\n",
    "#### 1.Add new contact\n",
    "#### 2.Search for contact\n",
    "#### 3.List of all contacts\n",
    "  ###### 3.1 Name1--Phone1\n",
    "  ###### 3.2 Name2--Phone2\n",
    "  ###### 3.3 Importing new contacts\n",
    "  ###### 3.4 Merge to existing contact\n",
    "#### 4.Remove contact\n",
    "#### 5.Modify contact"
   ]
  },
  {
   "cell_type": "code",
   "execution_count": 7,
   "metadata": {},
   "outputs": [
    {
     "name": "stdout",
     "output_type": "stream",
     "text": [
      "contact Anil added\n",
      "contact Harsha added\n",
      "contact Anil already exists\n"
     ]
    }
   ],
   "source": [
    "contacts={}\n",
    "def addContact(name,phone):\n",
    "    if name not in contacts:\n",
    "        contacts[name]=phone\n",
    "        print(\"contact %s added\" % name)\n",
    "    else:\n",
    "        print(\"contact %s already exists\" % name)\n",
    "    return\n",
    "addContact(\"Anil\",9513758645)\n",
    "addContact(\"Harsha\",9849346347)\n",
    "addContact(\"Anil\",8948357389)"
   ]
  },
  {
   "cell_type": "code",
   "execution_count": 9,
   "metadata": {},
   "outputs": [
    {
     "name": "stdout",
     "output_type": "stream",
     "text": [
      "Anil  :  9513758645\n",
      "Ajay does not exist\n",
      "Harsha  :  9849346347\n"
     ]
    }
   ],
   "source": [
    "def searchContact(name):\n",
    "    if name in contacts:\n",
    "        print(name,\" : \",contacts[name])\n",
    "    else:\n",
    "        print(\"%s does not exist\" % name)\n",
    "    return\n",
    "searchContact(\"Anil\")\n",
    "searchContact(\"Ajay\")\n",
    "searchContact(\"Harsha\")"
   ]
  },
  {
   "cell_type": "code",
   "execution_count": 8,
   "metadata": {},
   "outputs": [
    {
     "name": "stdout",
     "output_type": "stream",
     "text": [
      "{'Anil': 9513758645, 'Harsha': 9849346347}\n"
     ]
    }
   ],
   "source": [
    "print(contacts)"
   ]
  },
  {
   "cell_type": "code",
   "execution_count": 10,
   "metadata": {},
   "outputs": [
    {
     "name": "stdout",
     "output_type": "stream",
     "text": [
      "2 contacts added successfully\n"
     ]
    }
   ],
   "source": [
    "def importContacts(newContacts):\n",
    "    contacts.update(newContacts)\n",
    "    print(len(newContacts.keys()),\"contacts added successfully\")\n",
    "    return\n",
    "newContacts={'Dinesh':8995878538,'Ajay':9843947487}\n",
    "importContacts(newContacts)"
   ]
  },
  {
   "cell_type": "code",
   "execution_count": 11,
   "metadata": {},
   "outputs": [
    {
     "name": "stdout",
     "output_type": "stream",
     "text": [
      "{'Anil': 9513758645, 'Harsha': 9849346347, 'Dinesh': 8995878538, 'Ajay': 9843947487}\n"
     ]
    }
   ],
   "source": [
    "print(contacts)"
   ]
  },
  {
   "cell_type": "code",
   "execution_count": 12,
   "metadata": {},
   "outputs": [
    {
     "name": "stdout",
     "output_type": "stream",
     "text": [
      "Harsha  : is deleted from the contacts\n",
      "Naveen  : is not exists in the contacts\n"
     ]
    }
   ],
   "source": [
    "def deleteContact(name):\n",
    "    if name in contacts:\n",
    "        del contacts[name]\n",
    "        print(name,\" : is deleted from the contacts\")\n",
    "    else:\n",
    "        print(name,\" : is not exists in the contacts\")\n",
    "    return\n",
    "deleteContact(\"Harsha\")\n",
    "deleteContact(\"Naveen\")"
   ]
  },
  {
   "cell_type": "code",
   "execution_count": 13,
   "metadata": {},
   "outputs": [
    {
     "name": "stdout",
     "output_type": "stream",
     "text": [
      "{'Anil': 9513758645, 'Dinesh': 8995878538, 'Ajay': 9843947487}\n"
     ]
    }
   ],
   "source": [
    "print(contacts)"
   ]
  },
  {
   "cell_type": "code",
   "execution_count": 14,
   "metadata": {},
   "outputs": [
    {
     "name": "stdout",
     "output_type": "stream",
     "text": [
      "Anil  : Updated with new phone number\n",
      "Harsha Not exits in contacts\n"
     ]
    }
   ],
   "source": [
    "def updateContact(name,phone):\n",
    "    if name in contacts:\n",
    "        contacts[name]=phone\n",
    "        print(name,\" : Updated with new phone number\")\n",
    "    else:\n",
    "        print(name,\"Not exits in contacts\")\n",
    "    return\n",
    "updateContact(\"Anil\",9984347985)\n",
    "updateContact(\"Harsha\",9869593485)"
   ]
  },
  {
   "cell_type": "markdown",
   "metadata": {},
   "source": [
    "## Packages and Modules\n",
    "### Package:Collection of modules(Python file.py)\n",
    "### Sub-packages:It's part of main packages.\n",
    "### Module: A single python file contains ste of operations(functions).\n",
    "       Package-->Sub-package-->Modules-->Functions"
   ]
  },
  {
   "cell_type": "code",
   "execution_count": 1,
   "metadata": {},
   "outputs": [
    {
     "data": {
      "text/plain": [
       "123"
      ]
     },
     "execution_count": 1,
     "metadata": {},
     "output_type": "execute_result"
    }
   ],
   "source": [
    "from math import floor as f1\n",
    "f1(123.456)"
   ]
  },
  {
   "cell_type": "code",
   "execution_count": 2,
   "metadata": {},
   "outputs": [
    {
     "data": {
      "text/plain": [
       "120"
      ]
     },
     "execution_count": 2,
     "metadata": {},
     "output_type": "execute_result"
    }
   ],
   "source": [
    "from math import factorial as fact\n",
    "fact(5)"
   ]
  },
  {
   "cell_type": "code",
   "execution_count": 4,
   "metadata": {},
   "outputs": [
    {
     "data": {
      "text/plain": [
       "120"
      ]
     },
     "execution_count": 4,
     "metadata": {},
     "output_type": "execute_result"
    }
   ],
   "source": [
    "import math\n",
    "math.factorial(5)"
   ]
  },
  {
   "cell_type": "markdown",
   "metadata": {},
   "source": [
    "##### Generate random numbers between two limits."
   ]
  },
  {
   "cell_type": "code",
   "execution_count": 5,
   "metadata": {},
   "outputs": [
    {
     "name": "stdout",
     "output_type": "stream",
     "text": [
      "70 49 27 102 91 91 84 44 115 101 "
     ]
    }
   ],
   "source": [
    "import random\n",
    "def generateRandomNumbers(n,lb,ub):\n",
    "    for i in range(0,n):\n",
    "        print(random.randint(lb,ub),end=\" \")\n",
    "    return\n",
    "generateRandomNumbers(10,12,120)"
   ]
  },
  {
   "cell_type": "code",
   "execution_count": null,
   "metadata": {},
   "outputs": [],
   "source": []
  }
 ],
 "metadata": {
  "kernelspec": {
   "display_name": "Python 3",
   "language": "python",
   "name": "python3"
  },
  "language_info": {
   "codemirror_mode": {
    "name": "ipython",
    "version": 3
   },
   "file_extension": ".py",
   "mimetype": "text/x-python",
   "name": "python",
   "nbconvert_exporter": "python",
   "pygments_lexer": "ipython3",
   "version": "3.7.3"
  }
 },
 "nbformat": 4,
 "nbformat_minor": 2
}
